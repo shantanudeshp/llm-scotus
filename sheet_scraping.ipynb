{
  "nbformat": 4,
  "nbformat_minor": 0,
  "metadata": {
    "colab": {
      "provenance": [],
      "authorship_tag": "ABX9TyMwyphCwghMO5t6olGgPFpH",
      "include_colab_link": true
    },
    "kernelspec": {
      "name": "python3",
      "display_name": "Python 3"
    },
    "language_info": {
      "name": "python"
    }
  },
  "cells": [
    {
      "cell_type": "markdown",
      "metadata": {
        "id": "view-in-github",
        "colab_type": "text"
      },
      "source": [
        "<a href=\"https://colab.research.google.com/github/shantanudeshp/llm-scotus/blob/20230904-wip/sheet_scraping.ipynb\" target=\"_parent\"><img src=\"https://colab.research.google.com/assets/colab-badge.svg\" alt=\"Open In Colab\"/></a>"
      ]
    },
    {
      "cell_type": "code",
      "execution_count": null,
      "metadata": {
        "colab": {
          "base_uri": "https://localhost:8080/"
        },
        "id": "oUFI9b5wFNON",
        "outputId": "8e0abee4-b077-4850-c521-04dfeca2db8b"
      },
      "outputs": [
        {
          "output_type": "stream",
          "name": "stdout",
          "text": [
            "Requirement already satisfied: pandas in /usr/local/lib/python3.10/dist-packages (1.5.3)\n",
            "Requirement already satisfied: python-dateutil>=2.8.1 in /usr/local/lib/python3.10/dist-packages (from pandas) (2.8.2)\n",
            "Requirement already satisfied: pytz>=2020.1 in /usr/local/lib/python3.10/dist-packages (from pandas) (2023.3.post1)\n",
            "Requirement already satisfied: numpy>=1.21.0 in /usr/local/lib/python3.10/dist-packages (from pandas) (1.23.5)\n",
            "Requirement already satisfied: six>=1.5 in /usr/local/lib/python3.10/dist-packages (from python-dateutil>=2.8.1->pandas) (1.16.0)\n",
            "Requirement already satisfied: openai in /usr/local/lib/python3.10/dist-packages (0.28.0)\n",
            "Requirement already satisfied: requests>=2.20 in /usr/local/lib/python3.10/dist-packages (from openai) (2.31.0)\n",
            "Requirement already satisfied: tqdm in /usr/local/lib/python3.10/dist-packages (from openai) (4.66.1)\n",
            "Requirement already satisfied: aiohttp in /usr/local/lib/python3.10/dist-packages (from openai) (3.8.5)\n",
            "Requirement already satisfied: charset-normalizer<4,>=2 in /usr/local/lib/python3.10/dist-packages (from requests>=2.20->openai) (3.2.0)\n",
            "Requirement already satisfied: idna<4,>=2.5 in /usr/local/lib/python3.10/dist-packages (from requests>=2.20->openai) (3.4)\n",
            "Requirement already satisfied: urllib3<3,>=1.21.1 in /usr/local/lib/python3.10/dist-packages (from requests>=2.20->openai) (2.0.4)\n",
            "Requirement already satisfied: certifi>=2017.4.17 in /usr/local/lib/python3.10/dist-packages (from requests>=2.20->openai) (2023.7.22)\n",
            "Requirement already satisfied: attrs>=17.3.0 in /usr/local/lib/python3.10/dist-packages (from aiohttp->openai) (23.1.0)\n",
            "Requirement already satisfied: multidict<7.0,>=4.5 in /usr/local/lib/python3.10/dist-packages (from aiohttp->openai) (6.0.4)\n",
            "Requirement already satisfied: async-timeout<5.0,>=4.0.0a3 in /usr/local/lib/python3.10/dist-packages (from aiohttp->openai) (4.0.3)\n",
            "Requirement already satisfied: yarl<2.0,>=1.0 in /usr/local/lib/python3.10/dist-packages (from aiohttp->openai) (1.9.2)\n",
            "Requirement already satisfied: frozenlist>=1.1.1 in /usr/local/lib/python3.10/dist-packages (from aiohttp->openai) (1.4.0)\n",
            "Requirement already satisfied: aiosignal>=1.1.2 in /usr/local/lib/python3.10/dist-packages (from aiohttp->openai) (1.3.1)\n",
            "Enter the openai key··········\n",
            "\n",
            "{instructions}\n",
            "\n",
            "Case: {case_name}\n",
            "\n",
            "Summary: {case_summary}\n",
            "\n",
            "Verdict:\n",
            "\n",
            "URL: https://supreme.justia.com/cases/federal/us/597/21-954/, Predicted Verdict: Biden, Tokens used: 1463\n"
          ]
        }
      ],
      "source": [
        "!pip install pandas\n",
        "import pandas as pd\n",
        "%run case_data.ipynb\n",
        "%run scotus_predict.ipynb"
      ]
    },
    {
      "cell_type": "code",
      "source": [
        "df = pd.read_csv('case_info.csv', encoding='ISO-8859-1')"
      ],
      "metadata": {
        "id": "rVdnmOzDjVSe"
      },
      "execution_count": null,
      "outputs": []
    },
    {
      "cell_type": "code",
      "source": [
        "def analyze_case(docket_number):\n",
        "    # Use the previously loaded DataFrame 'df' to filter rows matching the docket number\n",
        "    case_row = df[df['docket'] == docket_number]\n",
        "\n",
        "    if not case_row.empty:\n",
        "        verdict = case_row['partyWinning'].values[0]\n",
        "        return verdict\n",
        "    else:\n",
        "        return None\n",
        "\n",
        "# Example usage:\n",
        "# docket_example = \"XX-XXX\"  # Replace with an actual docket number from your dataset\n",
        "# print(f\"Verdict for docket {docket_example}: {analyze_case(docket_example)}\")"
      ],
      "metadata": {
        "id": "11chlpjgjaqO"
      },
      "execution_count": null,
      "outputs": []
    },
    {
      "cell_type": "code",
      "source": [
        "analyze_case(\"258\")"
      ],
      "metadata": {
        "id": "BCqw93kVj677",
        "colab": {
          "base_uri": "https://localhost:8080/"
        },
        "outputId": "3960f6ff-6ad1-4fd5-d705-b735a8de9e26"
      },
      "execution_count": null,
      "outputs": [
        {
          "output_type": "execute_result",
          "data": {
            "text/plain": [
              "1.0"
            ]
          },
          "metadata": {},
          "execution_count": 6
        }
      ]
    },
    {
      "cell_type": "code",
      "source": [
        "def analyze_case(docket_number):\n",
        "    # Define the translation dictionary\n",
        "    verdict_translation = {\n",
        "        0: \"Petitioner won.\",\n",
        "        1: \"Respondent won.\",\n",
        "        2: \"Result unclear.\"\n",
        "    }\n",
        "\n",
        "    # Use the previously loaded DataFrame 'df' to filter rows matching the docket number\n",
        "    case_row = df[df['docket'] == docket_number]\n",
        "\n",
        "    if not case_row.empty:\n",
        "        verdict_code = case_row['partyWinning'].values[0]\n",
        "        return verdict_translation.get(verdict_code, \"Invalid verdict code\")\n",
        "    else:\n",
        "        return None"
      ],
      "metadata": {
        "id": "xYQnPYLJl9fS"
      },
      "execution_count": null,
      "outputs": []
    },
    {
      "cell_type": "code",
      "source": [
        "def generate_template(docket_number):\n",
        "    # Generate the URL based on the docket number\n",
        "    url = f\"https://supreme.justia.com/cases/federal/us/600/{docket_number}/\"\n",
        "\n",
        "    # Use get_case_details to scrape data\n",
        "    case_details = get_case_details(url)\n",
        "\n",
        "    # Assuming get_case_details returns a dictionary with keys 'contestants' and 'syllabus'\n",
        "    contestants = case_details.get('contestants', 'N/A')\n",
        "    syllabus = case_details.get('syllabus', 'N/A')\n",
        "\n",
        "    # Get the case verdict from the DataFrame\n",
        "    case_row = df[df['docket'] == docket_number]\n",
        "    if not case_row.empty:\n",
        "        # Translate the partyWinning column to a readable verdict\n",
        "        verdict_translation = {\n",
        "            0: \"no favorable disposition for petitioning party apparent\",\n",
        "            1: \"petitioning party received a favorable disposition\",\n",
        "            2: \"favorable disposition for petitioning party unclear\"\n",
        "        }\n",
        "        verdict = verdict_translation.get(case_row['partyWinning'].values[0], \"Invalid verdict code\")\n",
        "    else:\n",
        "        verdict = \"Verdict not found in CSV file\"\n",
        "\n",
        "    # Fill the template\n",
        "    template1 = f\"\"\"\n",
        "    Instructions: [Include any special instructions here]\n",
        "\n",
        "    Case: {contestants}\n",
        "\n",
        "    Summary: {syllabus}\n",
        "\n",
        "    Verdict: {verdict}\n",
        "    \"\"\"\n",
        "\n",
        "    return template1\n",
        "\n",
        "# Example usage\n",
        "docket_example = \"18-6135\"\n",
        "print(generate_template(docket_example))"
      ],
      "metadata": {
        "id": "fQszIHRx5pK0",
        "colab": {
          "base_uri": "https://localhost:8080/",
          "height": 381
        },
        "outputId": "e03fb715-138c-4544-e087-dd96b5645c90"
      },
      "execution_count": null,
      "outputs": [
        {
          "output_type": "error",
          "ename": "HTTPError",
          "evalue": "ignored",
          "traceback": [
            "\u001b[0;31m---------------------------------------------------------------------------\u001b[0m",
            "\u001b[0;31mHTTPError\u001b[0m                                 Traceback (most recent call last)",
            "\u001b[0;32m<ipython-input-9-c5507e0049d9>\u001b[0m in \u001b[0;36m<cell line: 40>\u001b[0;34m()\u001b[0m\n\u001b[1;32m     38\u001b[0m \u001b[0;31m# Example usage\u001b[0m\u001b[0;34m\u001b[0m\u001b[0;34m\u001b[0m\u001b[0m\n\u001b[1;32m     39\u001b[0m \u001b[0mdocket_example\u001b[0m \u001b[0;34m=\u001b[0m \u001b[0;34m\"18-6135\"\u001b[0m\u001b[0;34m\u001b[0m\u001b[0;34m\u001b[0m\u001b[0m\n\u001b[0;32m---> 40\u001b[0;31m \u001b[0mprint\u001b[0m\u001b[0;34m(\u001b[0m\u001b[0mgenerate_template\u001b[0m\u001b[0;34m(\u001b[0m\u001b[0mdocket_example\u001b[0m\u001b[0;34m)\u001b[0m\u001b[0;34m)\u001b[0m\u001b[0;34m\u001b[0m\u001b[0;34m\u001b[0m\u001b[0m\n\u001b[0m",
            "\u001b[0;32m<ipython-input-9-c5507e0049d9>\u001b[0m in \u001b[0;36mgenerate_template\u001b[0;34m(docket_number)\u001b[0m\n\u001b[1;32m      4\u001b[0m \u001b[0;34m\u001b[0m\u001b[0m\n\u001b[1;32m      5\u001b[0m     \u001b[0;31m# Use get_case_details to scrape data\u001b[0m\u001b[0;34m\u001b[0m\u001b[0;34m\u001b[0m\u001b[0m\n\u001b[0;32m----> 6\u001b[0;31m     \u001b[0mcase_details\u001b[0m \u001b[0;34m=\u001b[0m \u001b[0mget_case_details\u001b[0m\u001b[0;34m(\u001b[0m\u001b[0murl\u001b[0m\u001b[0;34m)\u001b[0m\u001b[0;34m\u001b[0m\u001b[0;34m\u001b[0m\u001b[0m\n\u001b[0m\u001b[1;32m      7\u001b[0m \u001b[0;34m\u001b[0m\u001b[0m\n\u001b[1;32m      8\u001b[0m     \u001b[0;31m# Assuming get_case_details returns a dictionary with keys 'contestants' and 'syllabus'\u001b[0m\u001b[0;34m\u001b[0m\u001b[0;34m\u001b[0m\u001b[0m\n",
            "\u001b[0;32m<ipython-input-2-96f1bb8efb1e>\u001b[0m in \u001b[0;36mget_case_details\u001b[0;34m(url)\u001b[0m\n\u001b[1;32m      1\u001b[0m \u001b[0;32mdef\u001b[0m \u001b[0mget_case_details\u001b[0m\u001b[0;34m(\u001b[0m\u001b[0murl\u001b[0m\u001b[0;34m)\u001b[0m\u001b[0;34m:\u001b[0m\u001b[0;34m\u001b[0m\u001b[0;34m\u001b[0m\u001b[0m\n\u001b[1;32m      2\u001b[0m     \u001b[0mresponse\u001b[0m \u001b[0;34m=\u001b[0m \u001b[0mrequests\u001b[0m\u001b[0;34m.\u001b[0m\u001b[0mget\u001b[0m\u001b[0;34m(\u001b[0m\u001b[0murl\u001b[0m\u001b[0;34m)\u001b[0m\u001b[0;34m\u001b[0m\u001b[0;34m\u001b[0m\u001b[0m\n\u001b[0;32m----> 3\u001b[0;31m     \u001b[0mresponse\u001b[0m\u001b[0;34m.\u001b[0m\u001b[0mraise_for_status\u001b[0m\u001b[0;34m(\u001b[0m\u001b[0;34m)\u001b[0m  \u001b[0;31m# Raise an error if the request was unsuccessful\u001b[0m\u001b[0;34m\u001b[0m\u001b[0;34m\u001b[0m\u001b[0m\n\u001b[0m\u001b[1;32m      4\u001b[0m \u001b[0;34m\u001b[0m\u001b[0m\n\u001b[1;32m      5\u001b[0m     \u001b[0;31m# Parse the webpage using BeautifulSoup\u001b[0m\u001b[0;34m\u001b[0m\u001b[0;34m\u001b[0m\u001b[0m\n",
            "\u001b[0;32m/usr/local/lib/python3.10/dist-packages/requests/models.py\u001b[0m in \u001b[0;36mraise_for_status\u001b[0;34m(self)\u001b[0m\n\u001b[1;32m   1019\u001b[0m \u001b[0;34m\u001b[0m\u001b[0m\n\u001b[1;32m   1020\u001b[0m         \u001b[0;32mif\u001b[0m \u001b[0mhttp_error_msg\u001b[0m\u001b[0;34m:\u001b[0m\u001b[0;34m\u001b[0m\u001b[0;34m\u001b[0m\u001b[0m\n\u001b[0;32m-> 1021\u001b[0;31m             \u001b[0;32mraise\u001b[0m \u001b[0mHTTPError\u001b[0m\u001b[0;34m(\u001b[0m\u001b[0mhttp_error_msg\u001b[0m\u001b[0;34m,\u001b[0m \u001b[0mresponse\u001b[0m\u001b[0;34m=\u001b[0m\u001b[0mself\u001b[0m\u001b[0;34m)\u001b[0m\u001b[0;34m\u001b[0m\u001b[0;34m\u001b[0m\u001b[0m\n\u001b[0m\u001b[1;32m   1022\u001b[0m \u001b[0;34m\u001b[0m\u001b[0m\n\u001b[1;32m   1023\u001b[0m     \u001b[0;32mdef\u001b[0m \u001b[0mclose\u001b[0m\u001b[0;34m(\u001b[0m\u001b[0mself\u001b[0m\u001b[0;34m)\u001b[0m\u001b[0;34m:\u001b[0m\u001b[0;34m\u001b[0m\u001b[0;34m\u001b[0m\u001b[0m\n",
            "\u001b[0;31mHTTPError\u001b[0m: 404 Client Error: Not Found for url: https://supreme.justia.com/cases/federal/us/600/18-6135/"
          ]
        }
      ]
    },
    {
      "cell_type": "code",
      "source": [],
      "metadata": {
        "id": "8sDGtcnP5uvw"
      },
      "execution_count": null,
      "outputs": []
    }
  ]
}
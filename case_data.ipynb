{
 "cells": [
  {
   "cell_type": "code",
   "execution_count": null,
   "id": "a1e3d590",
   "metadata": {},
   "outputs": [],
   "source": [
    "# Scrape case details from https://supreme.justia.com"
   ]
  },
  {
   "cell_type": "code",
   "execution_count": 1,
   "id": "76fd6f3c",
   "metadata": {},
   "outputs": [],
   "source": [
    "import logging"
   ]
  },
  {
   "cell_type": "code",
   "execution_count": 2,
   "id": "10e93d7d",
   "metadata": {},
   "outputs": [],
   "source": [
    "import re\n",
    "import requests\n",
    "from bs4 import BeautifulSoup"
   ]
  },
  {
   "cell_type": "code",
   "execution_count": 3,
   "id": "6c5337f1",
   "metadata": {},
   "outputs": [],
   "source": [
    "import logging\n",
    "logging.basicConfig(level=logging.INFO)"
   ]
  },
  {
   "cell_type": "code",
   "execution_count": 4,
   "id": "6f8f30a8",
   "metadata": {},
   "outputs": [],
   "source": [
    "# Scraper for data from https://supreme.justia.com\n",
    "# -------------"
   ]
  },
  {
   "cell_type": "code",
   "execution_count": 5,
   "id": "6416ee75",
   "metadata": {},
   "outputs": [],
   "source": [
    "def extract_case_urls_for_year(year):\n",
    "    base_url = 'https://supreme.justia.com/cases/federal/us/year/{}.html'\n",
    "\n",
    "    # Updated regex pattern to match specific case URLs\n",
    "    pattern = re.compile(r\"/cases/federal/us/\\d+/\\d+-\\d+/\")\n",
    "\n",
    "    all_case_urls = []\n",
    "\n",
    "    url = base_url.format(year)\n",
    "    response = requests.get(url)\n",
    "    soup = BeautifulSoup(response.text, 'html.parser')\n",
    "\n",
    "    for a in soup.find_all('a', href=True):\n",
    "        if pattern.match(a['href']):\n",
    "            full_url = \"https://supreme.justia.com\" + a['href']\n",
    "            all_case_urls.append(full_url)\n",
    "\n",
    "    return all_case_urls\n"
   ]
  },
  {
   "cell_type": "code",
   "execution_count": 13,
   "id": "08197e35",
   "metadata": {
    "collapsed": true
   },
   "outputs": [
    {
     "name": "stderr",
     "output_type": "stream",
     "text": [
      "DEBUG:urllib3.connectionpool:Starting new HTTPS connection (1): supreme.justia.com:443\n",
      "DEBUG:urllib3.connectionpool:https://supreme.justia.com:443 \"GET /cases/federal/us/year/2020.html HTTP/1.1\" 200 None\n"
     ]
    },
    {
     "data": {
      "text/plain": [
       "['https://supreme.justia.com/cases/federal/us/592/20-366/',\n",
       " 'https://supreme.justia.com/cases/federal/us/592/20-366/',\n",
       " 'https://supreme.justia.com/cases/federal/us/592/19-1302/',\n",
       " 'https://supreme.justia.com/cases/federal/us/592/19-1302/',\n",
       " 'https://supreme.justia.com/cases/federal/us/592/19-108/',\n",
       " 'https://supreme.justia.com/cases/federal/us/592/19-108/',\n",
       " 'https://supreme.justia.com/cases/federal/us/592/19-71/',\n",
       " 'https://supreme.justia.com/cases/federal/us/592/19-71/',\n",
       " 'https://supreme.justia.com/cases/federal/us/592/19-309/',\n",
       " 'https://supreme.justia.com/cases/federal/us/592/19-309/',\n",
       " 'https://supreme.justia.com/cases/federal/us/592/18-540/',\n",
       " 'https://supreme.justia.com/cases/federal/us/592/18-540/',\n",
       " 'https://supreme.justia.com/cases/federal/us/592/19-1108/',\n",
       " 'https://supreme.justia.com/cases/federal/us/592/19-1108/',\n",
       " 'https://supreme.justia.com/cases/federal/us/592/19-1261/',\n",
       " 'https://supreme.justia.com/cases/federal/us/592/19-1261/',\n",
       " 'https://supreme.justia.com/cases/federal/us/591/17-1107/',\n",
       " 'https://supreme.justia.com/cases/federal/us/591/17-1107/',\n",
       " 'https://supreme.justia.com/cases/federal/us/591/18-9526/',\n",
       " 'https://supreme.justia.com/cases/federal/us/591/18-9526/',\n",
       " 'https://supreme.justia.com/cases/federal/us/591/19-715/',\n",
       " 'https://supreme.justia.com/cases/federal/us/591/19-715/',\n",
       " 'https://supreme.justia.com/cases/federal/us/591/19-635/',\n",
       " 'https://supreme.justia.com/cases/federal/us/591/19-635/',\n",
       " 'https://supreme.justia.com/cases/federal/us/591/19-431/',\n",
       " 'https://supreme.justia.com/cases/federal/us/591/19-431/',\n",
       " 'https://supreme.justia.com/cases/federal/us/591/19-267/',\n",
       " 'https://supreme.justia.com/cases/federal/us/591/19-267/',\n",
       " 'https://supreme.justia.com/cases/federal/us/591/19-518/',\n",
       " 'https://supreme.justia.com/cases/federal/us/591/19-518/',\n",
       " 'https://supreme.justia.com/cases/federal/us/591/19-465/',\n",
       " 'https://supreme.justia.com/cases/federal/us/591/19-465/',\n",
       " 'https://supreme.justia.com/cases/federal/us/591/19-631/',\n",
       " 'https://supreme.justia.com/cases/federal/us/591/19-631/',\n",
       " 'https://supreme.justia.com/cases/federal/us/591/18-1195/',\n",
       " 'https://supreme.justia.com/cases/federal/us/591/18-1195/',\n",
       " 'https://supreme.justia.com/cases/federal/us/591/19-46/',\n",
       " 'https://supreme.justia.com/cases/federal/us/591/19-46/',\n",
       " 'https://supreme.justia.com/cases/federal/us/591/19-177/',\n",
       " 'https://supreme.justia.com/cases/federal/us/591/19-177/',\n",
       " 'https://supreme.justia.com/cases/federal/us/591/19-7/',\n",
       " 'https://supreme.justia.com/cases/federal/us/591/19-7/',\n",
       " 'https://supreme.justia.com/cases/federal/us/591/18-1323/',\n",
       " 'https://supreme.justia.com/cases/federal/us/591/18-1323/',\n",
       " 'https://supreme.justia.com/cases/federal/us/591/19-161/',\n",
       " 'https://supreme.justia.com/cases/federal/us/591/19-161/',\n",
       " 'https://supreme.justia.com/cases/federal/us/591/18-1501/',\n",
       " 'https://supreme.justia.com/cases/federal/us/591/18-1501/',\n",
       " 'https://supreme.justia.com/cases/federal/us/591/18-587/',\n",
       " 'https://supreme.justia.com/cases/federal/us/591/18-587/',\n",
       " 'https://supreme.justia.com/cases/federal/us/590/17-1618/',\n",
       " 'https://supreme.justia.com/cases/federal/us/590/17-1618/',\n",
       " 'https://supreme.justia.com/cases/federal/us/590/18-1584/',\n",
       " 'https://supreme.justia.com/cases/federal/us/590/18-1584/',\n",
       " 'https://supreme.justia.com/cases/federal/us/590/18-9674/',\n",
       " 'https://supreme.justia.com/cases/federal/us/590/18-9674/',\n",
       " 'https://supreme.justia.com/cases/federal/us/590/18-8369/',\n",
       " 'https://supreme.justia.com/cases/federal/us/590/18-8369/',\n",
       " 'https://supreme.justia.com/cases/federal/us/590/18-6943/',\n",
       " 'https://supreme.justia.com/cases/federal/us/590/18-6943/',\n",
       " 'https://supreme.justia.com/cases/federal/us/590/18-1334/',\n",
       " 'https://supreme.justia.com/cases/federal/us/590/18-1334/',\n",
       " 'https://supreme.justia.com/cases/federal/us/590/18-1432/',\n",
       " 'https://supreme.justia.com/cases/federal/us/590/18-1432/',\n",
       " 'https://supreme.justia.com/cases/federal/us/590/18-1048/',\n",
       " 'https://supreme.justia.com/cases/federal/us/590/18-1048/',\n",
       " 'https://supreme.justia.com/cases/federal/us/590/17-1712/',\n",
       " 'https://supreme.justia.com/cases/federal/us/590/17-1712/',\n",
       " 'https://supreme.justia.com/cases/federal/us/590/17-1268/',\n",
       " 'https://supreme.justia.com/cases/federal/us/590/17-1268/',\n",
       " 'https://supreme.justia.com/cases/federal/us/590/18-1086/',\n",
       " 'https://supreme.justia.com/cases/federal/us/590/18-1086/',\n",
       " 'https://supreme.justia.com/cases/federal/us/590/19-67/',\n",
       " 'https://supreme.justia.com/cases/federal/us/590/19-67/',\n",
       " 'https://supreme.justia.com/cases/federal/us/590/18-1059/',\n",
       " 'https://supreme.justia.com/cases/federal/us/590/18-1059/',\n",
       " 'https://supreme.justia.com/cases/federal/us/590/18-280/',\n",
       " 'https://supreme.justia.com/cases/federal/us/590/18-280/',\n",
       " 'https://supreme.justia.com/cases/federal/us/590/18-1150/',\n",
       " 'https://supreme.justia.com/cases/federal/us/590/18-1150/',\n",
       " 'https://supreme.justia.com/cases/federal/us/590/18-1023/',\n",
       " 'https://supreme.justia.com/cases/federal/us/590/18-1023/',\n",
       " 'https://supreme.justia.com/cases/federal/us/590/18-260/',\n",
       " 'https://supreme.justia.com/cases/federal/us/590/18-260/',\n",
       " 'https://supreme.justia.com/cases/federal/us/590/18-725/',\n",
       " 'https://supreme.justia.com/cases/federal/us/590/18-725/',\n",
       " 'https://supreme.justia.com/cases/federal/us/590/18-1233/',\n",
       " 'https://supreme.justia.com/cases/federal/us/590/18-1233/',\n",
       " 'https://supreme.justia.com/cases/federal/us/590/17-1498/',\n",
       " 'https://supreme.justia.com/cases/federal/us/590/17-1498/',\n",
       " 'https://supreme.justia.com/cases/federal/us/590/18-5924/',\n",
       " 'https://supreme.justia.com/cases/federal/us/590/18-5924/',\n",
       " 'https://supreme.justia.com/cases/federal/us/590/18-916/',\n",
       " 'https://supreme.justia.com/cases/federal/us/590/18-916/',\n",
       " 'https://supreme.justia.com/cases/federal/us/589/18-882/',\n",
       " 'https://supreme.justia.com/cases/federal/us/589/18-882/',\n",
       " 'https://supreme.justia.com/cases/federal/us/589/18-556/',\n",
       " 'https://supreme.justia.com/cases/federal/us/589/18-556/',\n",
       " 'https://supreme.justia.com/cases/federal/us/589/18-565/',\n",
       " 'https://supreme.justia.com/cases/federal/us/589/18-565/',\n",
       " 'https://supreme.justia.com/cases/federal/us/589/18-6135/',\n",
       " 'https://supreme.justia.com/cases/federal/us/589/18-6135/',\n",
       " 'https://supreme.justia.com/cases/federal/us/589/18-1171/',\n",
       " 'https://supreme.justia.com/cases/federal/us/589/18-1171/',\n",
       " 'https://supreme.justia.com/cases/federal/us/589/18-877/',\n",
       " 'https://supreme.justia.com/cases/federal/us/589/18-877/',\n",
       " 'https://supreme.justia.com/cases/federal/us/589/18-776/',\n",
       " 'https://supreme.justia.com/cases/federal/us/589/18-776/',\n",
       " 'https://supreme.justia.com/cases/federal/us/589/19-5421/',\n",
       " 'https://supreme.justia.com/cases/federal/us/589/19-5421/',\n",
       " 'https://supreme.justia.com/cases/federal/us/589/17-834/',\n",
       " 'https://supreme.justia.com/cases/federal/us/589/17-834/',\n",
       " 'https://supreme.justia.com/cases/federal/us/589/18-6662/',\n",
       " 'https://supreme.justia.com/cases/federal/us/589/18-6662/',\n",
       " 'https://supreme.justia.com/cases/federal/us/589/18-7739/',\n",
       " 'https://supreme.justia.com/cases/federal/us/589/18-7739/',\n",
       " 'https://supreme.justia.com/cases/federal/us/589/18-1116/',\n",
       " 'https://supreme.justia.com/cases/federal/us/589/18-1116/',\n",
       " 'https://supreme.justia.com/cases/federal/us/589/18-935/',\n",
       " 'https://supreme.justia.com/cases/federal/us/589/18-935/',\n",
       " 'https://supreme.justia.com/cases/federal/us/589/18-1109/',\n",
       " 'https://supreme.justia.com/cases/federal/us/589/18-1109/',\n",
       " 'https://supreme.justia.com/cases/federal/us/589/18-1269/',\n",
       " 'https://supreme.justia.com/cases/federal/us/589/18-1269/',\n",
       " 'https://supreme.justia.com/cases/federal/us/589/17-1678/',\n",
       " 'https://supreme.justia.com/cases/federal/us/589/17-1678/',\n",
       " 'https://supreme.justia.com/cases/federal/us/589/18-921/',\n",
       " 'https://supreme.justia.com/cases/federal/us/589/18-921/',\n",
       " 'https://supreme.justia.com/cases/federal/us/589/18-1165/',\n",
       " 'https://supreme.justia.com/cases/federal/us/589/18-1165/',\n",
       " 'https://supreme.justia.com/cases/federal/us/589/18-938/',\n",
       " 'https://supreme.justia.com/cases/federal/us/589/18-938/']"
      ]
     },
     "execution_count": 13,
     "metadata": {},
     "output_type": "execute_result"
    }
   ],
   "source": [
    "#extract_case_urls_for_year('2020')"
   ]
  },
  {
   "cell_type": "code",
   "execution_count": 6,
   "id": "f02c697e",
   "metadata": {},
   "outputs": [],
   "source": [
    "def extract_case_urls(years):\n",
    "    urls = []\n",
    "    for year in years:\n",
    "        logging.debug(f\"year: {year}\")\n",
    "        _urls = extract_case_urls_for_year(year)\n",
    "        logging.debug(_urls)\n",
    "        urls.extend(_urls)\n",
    "    return urls"
   ]
  },
  {
   "cell_type": "code",
   "execution_count": 9,
   "id": "af64efbb",
   "metadata": {},
   "outputs": [],
   "source": [
    "#u = extract_case_urls([2020, 2021, 2022])"
   ]
  },
  {
   "cell_type": "code",
   "execution_count": 9,
   "id": "7c45f2fb",
   "metadata": {},
   "outputs": [],
   "source": []
  },
  {
   "cell_type": "code",
   "execution_count": null,
   "id": "720f572b",
   "metadata": {},
   "outputs": [],
   "source": [
    "def extract_case_url_for_year(year):\n",
    "    base_url = 'https://supreme.justia.com/cases/federal/us/year/{}.html'\n",
    "\n",
    "    # Updated regex pattern to match specific case URLs\n",
    "    pattern = re.compile(r\"/cases/federal/us/\\d+/\\d+-\\d+/\")\n",
    "\n",
    "    all_case_urls = []\n",
    "\n",
    "    url = base_url.format(year)\n",
    "    response = requests.get(url)\n",
    "    soup = BeautifulSoup(response.text, 'html.parser')\n",
    "\n",
    "    for a in soup.find_all('a', href=True):\n",
    "        if pattern.match(a['href']):\n",
    "            full_url = \"https://supreme.justia.com\" + a['href']\n",
    "            all_case_urls.append(full_url)\n",
    "\n",
    "    return all_case_urls\n"
   ]
  },
  {
   "cell_type": "code",
   "execution_count": null,
   "id": "4e060189",
   "metadata": {},
   "outputs": [],
   "source": []
  },
  {
   "cell_type": "code",
   "execution_count": 10,
   "id": "102c077e",
   "metadata": {},
   "outputs": [],
   "source": [
    "def scrape_contestants(soup):\n",
    "    # Get the webpage content\n",
    "\n",
    "    # Find the <h1> tag by its specific attributes\n",
    "    h1_tag = soup.find('h1', attrs={\"id\": \"text-a\", \"class\": \"heading-1 has-margin-top-10 has-margin-bottom-10\"})\n",
    "\n",
    "    if not h1_tag:\n",
    "        return \"Case title not found\"\n",
    "\n",
    "    # Use regular expression to match the pattern \"Word v. Word\"\n",
    "    match = re.search(r'([\\w\\s]+)\\sv\\.\\s([\\w\\s]+)', h1_tag.text)\n",
    "    if match:\n",
    "        return match.group(1).strip() + \" v. \" + match.group(2).strip()\n",
    "    else:\n",
    "        return \"Pattern not found in title!\""
   ]
  },
  {
   "cell_type": "code",
   "execution_count": 11,
   "id": "23609284",
   "metadata": {},
   "outputs": [],
   "source": [
    "def scrape_syllabus(soup):\n",
    "    # Find the syllabus section by div id (assuming id=\"diminished-text-3\" based on the provided example)\n",
    "    syllabus_div = soup.find('div', {'id': 'diminished-text-3'})\n",
    "\n",
    "    if not syllabus_div:\n",
    "        return \"Syllabus not found\"\n",
    "\n",
    "    # Find the <em>Held</em> tag\n",
    "    held_tag = syllabus_div.find('em', string=lambda x: x and 'Held' in x)\n",
    "\n",
    "    if held_tag:\n",
    "        # Create an empty list to store paragraphs before the \"Held\" tag\n",
    "        paragraphs_before_held = []\n",
    "\n",
    "        # Iterate over previous siblings of the \"Held\" tag to get content before it\n",
    "        for sib in held_tag.find_all_previous():\n",
    "            if sib.name == 'p':\n",
    "                paragraphs_before_held.insert(0, sib.get_text(strip=True))  # Prepend to keep order\n",
    "            elif sib == held_tag:  # Stop once we reach the 'Held' tag itself\n",
    "                break\n",
    "\n",
    "        syllabus_content = \" \".join(paragraphs_before_held[:-1])  # Excluding the last paragraph which contains 'Held:'\n",
    "    else:\n",
    "        # If no held tag, extract entire syllabus\n",
    "        syllabus_content = syllabus_div.get_text(strip=True)\n",
    "\n",
    "    return syllabus_content"
   ]
  },
  {
   "cell_type": "code",
   "execution_count": 12,
   "id": "081e5268",
   "metadata": {},
   "outputs": [],
   "source": [
    "def get_case_details(url):\n",
    "    response = requests.get(url)\n",
    "    response.raise_for_status()  # Raise an error if the request was unsuccessful\n",
    "\n",
    "    # Parse the webpage using BeautifulSoup\n",
    "    soup = BeautifulSoup(response.content, 'html.parser')\n",
    "\n",
    "    contestants = scrape_contestants(soup)\n",
    "    syllabus = scrape_syllabus(soup)\n",
    "    \n",
    "    return {'contestants':contestants, 'syllabus':syllabus}"
   ]
  },
  {
   "cell_type": "code",
   "execution_count": 14,
   "id": "ae641b4f",
   "metadata": {},
   "outputs": [
    {
     "name": "stderr",
     "output_type": "stream",
     "text": [
      "DEBUG:urllib3.connectionpool:Starting new HTTPS connection (1): supreme.justia.com:443\n",
      "DEBUG:urllib3.connectionpool:https://supreme.justia.com:443 \"GET /cases/federal/us/592/20-366/ HTTP/1.1\" 200 None\n"
     ]
    }
   ],
   "source": [
    "#get_case_details('https://supreme.justia.com/cases/federal/us/592/20-366/')"
   ]
  },
  {
   "cell_type": "code",
   "execution_count": 16,
   "id": "fb573d4b",
   "metadata": {
    "collapsed": true
   },
   "outputs": [
    {
     "name": "stderr",
     "output_type": "stream",
     "text": [
      "DEBUG:urllib3.connectionpool:Starting new HTTPS connection (1): supreme.justia.com:443\n",
      "DEBUG:urllib3.connectionpool:https://supreme.justia.com:443 \"GET /cases/federal/us/591/19-631/ HTTP/1.1\" 200 None\n"
     ]
    },
    {
     "data": {
      "text/plain": [
       "{'contestants': 'Barr v. American Association of Political Consultants',\n",
       " 'syllabus': 'The Telephone Consumer Protection Act of 1991 prohibits almost all robocalls to cell phones, 47 U.S.C. 227(b)(1)(A)(iii). A 2015 amendment created an exception that allows robocalls made solely to collect a debt owed to or guaranteed by the United States, 129 Stat. 588. The Fourth Circuit concluded that the government-debt exception was a content-based speech restriction that could not withstand strict scrutiny and was severable from the robocall restriction. The Supreme Court affirmed. Under the Free Speech Clause, the government generally has no power to restrict expression because of its message, its ideas, its subject matter, or its content. Content-based laws are subject to strict scrutiny. The government-debt exception is content-based because it favors speech made for the purpose of collecting government debt over political and other speech. The exception does not draw distinctions based on speakers, and even if it did, that would not automatically render the distinction content-neutral.  The exception focuses on whether the caller is speaking about a particular topic and not simply on whether the caller is engaged in a particular economic activity.  While the First Amendment does not prevent restrictions directed at commerce or conduct from imposing incidental burdens on speech, this law does not simply have an effect on speech, but is directed at certain content and is aimed at particular speakers. The government has not sufficiently justified the differentiation between government-debt collection speech and other important categories of robocall speech, such as political speech, issue advocacy, and the like. An amendment to the Telephone Consumer Protection Act, allowing robocalls to cell phones to collect a debt owed to or guaranteed by the United States, violates the First Amendment.  NOTE:\\u2002Where it is feasible, a syllabus (headnote) will be released, as is being done in connection with this case, at the time the opinion is issued. The syllabus constitutes no part of the opinion of the Court but has been prepared by the Reporter of Decisions for the convenience of the reader. SeeUnited Statesv.Detroit Timber & Lumber Co.,200 U.S. 321, 337. SUPREME COURT OF THE UNITED STATES Syllabus BARR, ATTORNEY GENERAL, et\\xa0al.v. AMERICAN ASSOCIATION OF POLITICAL CONSULTANTS,  INC., et\\xa0al. certiorari to the united states court of appeals for the fourth circuit No. 19–631.\\u2003Argued May 6, 2020—Decided July 6, 2020 In response to consumer complaints, Congress passed the Telephone Consumer Protection Act of 1991 (TCPA) to prohibit,inter alia, almost all robocalls to cell phones.\\n\\n47 U.\\xa0S.\\xa0C. §227(b)(1)(A)(iii).  In 2015, Congress amended the robocall restriction, carving out a new government-debt exception that allows robocalls made solely to collect a debt owed to or guaranteed by the United States.\\n\\n129Stat.\\n588.  The American Association of Political Consultants and three other organizations that participate in the political system filed a declaratory judgment action, claiming that §227(b)(1)(A)(iii) violated the\\n \\nFirst Amendment.  The District Court determined that the robocall restriction with the government-debt exception was content-based but that it survived strict scrutiny because of the Government’s compelling interest in collecting debt.  The Fourth Circuit vacated the judgment, agreeing that the robo- call restriction with the government-debt exception was a content-based speech restriction, but holding that the law could not withstand strict scrutiny.  The court invalidated the government-debt exception and applied traditional severability principles to sever it from the robocall restriction.'}"
      ]
     },
     "execution_count": 16,
     "metadata": {},
     "output_type": "execute_result"
    }
   ],
   "source": [
    "#get_case_details('https://supreme.justia.com/cases/federal/us/591/19-631/')"
   ]
  },
  {
   "cell_type": "code",
   "execution_count": null,
   "id": "bafcda88",
   "metadata": {},
   "outputs": [],
   "source": []
  }
 ],
 "metadata": {
  "kernelspec": {
   "display_name": "Python [conda env:mr-delta2] *",
   "language": "python",
   "name": "conda-env-mr-delta2-py"
  },
  "language_info": {
   "codemirror_mode": {
    "name": "ipython",
    "version": 3
   },
   "file_extension": ".py",
   "mimetype": "text/x-python",
   "name": "python",
   "nbconvert_exporter": "python",
   "pygments_lexer": "ipython3",
   "version": "3.9.13"
  }
 },
 "nbformat": 4,
 "nbformat_minor": 5
}

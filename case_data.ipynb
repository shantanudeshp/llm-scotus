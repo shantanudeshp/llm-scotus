{
  "cells": [
    {
      "cell_type": "markdown",
      "metadata": {
        "id": "view-in-github",
        "colab_type": "text"
      },
      "source": [
        "<a href=\"https://colab.research.google.com/github/shantanudeshp/llm-scotus/blob/20230904-wip/case_data.ipynb\" target=\"_parent\"><img src=\"https://colab.research.google.com/assets/colab-badge.svg\" alt=\"Open In Colab\"/></a>"
      ]
    },
    {
      "cell_type": "code",
      "execution_count": null,
      "id": "a1e3d590",
      "metadata": {
        "id": "a1e3d590"
      },
      "outputs": [],
      "source": [
        "# Scrape case details from https://supreme.justia.com"
      ]
    },
    {
      "cell_type": "code",
      "execution_count": null,
      "id": "76fd6f3c",
      "metadata": {
        "id": "76fd6f3c"
      },
      "outputs": [],
      "source": [
        "import logging"
      ]
    },
    {
      "cell_type": "code",
      "execution_count": null,
      "id": "10e93d7d",
      "metadata": {
        "id": "10e93d7d"
      },
      "outputs": [],
      "source": [
        "import re\n",
        "import requests\n",
        "from bs4 import BeautifulSoup"
      ]
    },
    {
      "cell_type": "code",
      "execution_count": null,
      "id": "6c5337f1",
      "metadata": {
        "id": "6c5337f1"
      },
      "outputs": [],
      "source": [
        "import logging\n",
        "logging.basicConfig(level=logging.INFO)"
      ]
    },
    {
      "cell_type": "code",
      "execution_count": null,
      "id": "6f8f30a8",
      "metadata": {
        "id": "6f8f30a8"
      },
      "outputs": [],
      "source": [
        "# Scraper for data from https://supreme.justia.com\n",
        "# -------------"
      ]
    },
    {
      "cell_type": "code",
      "execution_count": null,
      "id": "6416ee75",
      "metadata": {
        "id": "6416ee75"
      },
      "outputs": [],
      "source": [
        "def extract_case_urls_for_year(year):\n",
        "    base_url = 'https://supreme.justia.com/cases/federal/us/year/{}.html'\n",
        "\n",
        "    # Updated regex pattern to match specific case URLs\n",
        "    pattern = re.compile(r\"/cases/federal/us/\\d+/\\d+-\\d+/\")\n",
        "\n",
        "    all_case_urls = []\n",
        "\n",
        "    url = base_url.format(year)\n",
        "    response = requests.get(url)\n",
        "    soup = BeautifulSoup(response.text, 'html.parser')\n",
        "\n",
        "    for a in soup.find_all('a', href=True):\n",
        "        if pattern.match(a['href']):\n",
        "            full_url = \"https://supreme.justia.com\" + a['href']\n",
        "            all_case_urls.append(full_url)\n",
        "\n",
        "    return all_case_urls\n"
      ]
    },
    {
      "cell_type": "code",
      "execution_count": null,
      "id": "08197e35",
      "metadata": {
        "collapsed": true,
        "id": "08197e35"
      },
      "outputs": [],
      "source": [
        "#extract_case_urls_for_year('2020')"
      ]
    },
    {
      "cell_type": "code",
      "execution_count": null,
      "id": "f02c697e",
      "metadata": {
        "id": "f02c697e"
      },
      "outputs": [],
      "source": [
        "def extract_case_urls(years):\n",
        "    urls = []\n",
        "    for year in years:\n",
        "        logging.debug(f\"year: {year}\")\n",
        "        _urls = extract_case_urls_for_year(year)\n",
        "        logging.debug(_urls)\n",
        "        urls.extend(_urls)\n",
        "    return urls"
      ]
    },
    {
      "cell_type": "code",
      "execution_count": null,
      "id": "af64efbb",
      "metadata": {
        "id": "af64efbb"
      },
      "outputs": [],
      "source": [
        "#u = extract_case_urls([2020, 2021, 2022])"
      ]
    },
    {
      "cell_type": "code",
      "execution_count": null,
      "id": "7c45f2fb",
      "metadata": {
        "id": "7c45f2fb"
      },
      "outputs": [],
      "source": []
    },
    {
      "cell_type": "code",
      "execution_count": null,
      "id": "720f572b",
      "metadata": {
        "id": "720f572b"
      },
      "outputs": [],
      "source": [
        "def extract_case_url_for_year_xx(year):\n",
        "    base_url = 'https://supreme.justia.com/cases/federal/us/year/{}.html'\n",
        "\n",
        "    # Updated regex pattern to match specific case URLs\n",
        "    pattern = re.compile(r\"/cases/federal/us/\\d+/\\d+-\\d+/\")\n",
        "\n",
        "    all_case_urls = []\n",
        "\n",
        "    url = base_url.format(year)\n",
        "    response = requests.get(url)\n",
        "    soup = BeautifulSoup(response.text, 'html.parser')\n",
        "\n",
        "    for a in soup.find_all('a', href=True):\n",
        "        if pattern.match(a['href']):\n",
        "            full_url = \"https://supreme.justia.com\" + a['href']\n",
        "            all_case_urls.append(full_url)\n",
        "\n",
        "    return all_case_urls\n"
      ]
    },
    {
      "cell_type": "code",
      "execution_count": null,
      "id": "4e060189",
      "metadata": {
        "id": "4e060189"
      },
      "outputs": [],
      "source": []
    },
    {
      "cell_type": "code",
      "execution_count": null,
      "id": "102c077e",
      "metadata": {
        "id": "102c077e"
      },
      "outputs": [],
      "source": [
        "def scrape_contestants(soup):\n",
        "    # Get the webpage content\n",
        "\n",
        "    # Find the <h1> tag by its specific attributes\n",
        "    h1_tag = soup.find('h1', attrs={\"id\": \"text-a\", \"class\": \"heading-1 has-margin-top-10 has-margin-bottom-10\"})\n",
        "\n",
        "    if not h1_tag:\n",
        "        return None\n",
        "\n",
        "    # Use regular expression to match the pattern \"Word v. Word\"\n",
        "    match = re.search(r'([\\w\\s]+)\\sv\\.\\s([\\w\\s]+)', h1_tag.text)\n",
        "    if match:\n",
        "        return match.group(1).strip() + \" v. \" + match.group(2).strip()\n",
        "    else:\n",
        "        return None"
      ]
    },
    {
      "cell_type": "code",
      "execution_count": null,
      "id": "23609284",
      "metadata": {
        "id": "23609284"
      },
      "outputs": [],
      "source": [
        "def scrape_syllabus(soup):\n",
        "    # Find the syllabus section by div id (assuming id=\"diminished-text-3\" based on the provided example)\n",
        "    syllabus_div = soup.find('div', {'id': 'diminished-text-3'})\n",
        "\n",
        "    if not syllabus_div:\n",
        "        return None\n",
        "\n",
        "    # Find the <em>Held</em> tag\n",
        "    held_tag = syllabus_div.find('em', string=lambda x: x and 'Held' in x)\n",
        "\n",
        "    if held_tag:\n",
        "        # Create an empty list to store paragraphs before the \"Held\" tag\n",
        "        paragraphs_before_held = []\n",
        "\n",
        "        # Iterate over previous siblings of the \"Held\" tag to get content before it\n",
        "        for sib in held_tag.find_all_previous():\n",
        "            if sib.name == 'p':\n",
        "                paragraphs_before_held.insert(0, sib.get_text(strip=True))  # Prepend to keep order\n",
        "            elif sib == held_tag:  # Stop once we reach the 'Held' tag itself\n",
        "                break\n",
        "\n",
        "        syllabus_content = \" \".join(paragraphs_before_held[:-1])  # Excluding the last paragraph which contains 'Held:'\n",
        "    else:\n",
        "        # If no held tag, extract entire syllabus\n",
        "        syllabus_content = syllabus_div.get_text(strip=True)\n",
        "\n",
        "    return syllabus_content"
      ]
    },
    {
      "cell_type": "code",
      "execution_count": null,
      "id": "081e5268",
      "metadata": {
        "id": "081e5268"
      },
      "outputs": [],
      "source": [
        "def get_case_details(url):\n",
        "    response = requests.get(url)\n",
        "    response.raise_for_status()  # Raise an error if the request was unsuccessful\n",
        "\n",
        "    # Parse the webpage using BeautifulSoup\n",
        "    soup = BeautifulSoup(response.content, 'html.parser')\n",
        "\n",
        "    contestants = scrape_contestants(soup)\n",
        "    syllabus = scrape_syllabus(soup)\n",
        "\n",
        "    return {'contestants':contestants, 'syllabus':syllabus}"
      ]
    },
    {
      "cell_type": "code",
      "execution_count": null,
      "id": "ae641b4f",
      "metadata": {
        "colab": {
          "base_uri": "https://localhost:8080/"
        },
        "id": "ae641b4f",
        "outputId": "06aaa76d-ab50-4c0d-a94d-18e6571ae41f"
      },
      "outputs": [
        {
          "output_type": "execute_result",
          "data": {
            "text/plain": [
              "{'contestants': 'Trump v. New York', 'syllabus': None}"
            ]
          },
          "metadata": {},
          "execution_count": 16
        }
      ],
      "source": [
        "#get_case_details('https://supreme.justia.com/cases/federal/us/592/20-366/')"
      ]
    },
    {
      "cell_type": "code",
      "execution_count": null,
      "id": "fb573d4b",
      "metadata": {
        "collapsed": true,
        "colab": {
          "base_uri": "https://localhost:8080/"
        },
        "id": "fb573d4b",
        "outputId": "8d4ee8be-a8a4-4657-cd0b-9f1bda7ffef0"
      },
      "outputs": [
        {
          "output_type": "execute_result",
          "data": {
            "text/plain": [
              "{'contestants': 'Barr v. American Association of Political Consultants',\n",
              " 'syllabus': 'The Telephone Consumer Protection Act of 1991 prohibits almost all robocalls to cell phones, 47 U.S.C. 227(b)(1)(A)(iii). A 2015 amendment created an exception that allows robocalls made solely to collect a debt owed to or guaranteed by the United States, 129 Stat. 588. The Fourth Circuit concluded that the government-debt exception was a content-based speech restriction that could not withstand strict scrutiny and was severable from the robocall restriction. The Supreme Court affirmed. Under the Free Speech Clause, the government generally has no power to restrict expression because of its message, its ideas, its subject matter, or its content. Content-based laws are subject to strict scrutiny. The government-debt exception is content-based because it favors speech made for the purpose of collecting government debt over political and other speech. The exception does not draw distinctions based on speakers, and even if it did, that would not automatically render the distinction content-neutral.  The exception focuses on whether the caller is speaking about a particular topic and not simply on whether the caller is engaged in a particular economic activity.  While the First Amendment does not prevent restrictions directed at commerce or conduct from imposing incidental burdens on speech, this law does not simply have an effect on speech, but is directed at certain content and is aimed at particular speakers. The government has not sufficiently justified the differentiation between government-debt collection speech and other important categories of robocall speech, such as political speech, issue advocacy, and the like. An amendment to the Telephone Consumer Protection Act, allowing robocalls to cell phones to collect a debt owed to or guaranteed by the United States, violates the First Amendment.  NOTE:\\u2002Where it is feasible, a syllabus (headnote) will be released, as is being done in connection with this case, at the time the opinion is issued. The syllabus constitutes no part of the opinion of the Court but has been prepared by the Reporter of Decisions for the convenience of the reader. SeeUnited Statesv.Detroit Timber & Lumber Co.,200 U.S. 321, 337. SUPREME COURT OF THE UNITED STATES Syllabus BARR, ATTORNEY GENERAL, et\\xa0al.v. AMERICAN ASSOCIATION OF POLITICAL CONSULTANTS,  INC., et\\xa0al. certiorari to the united states court of appeals for the fourth circuit No. 19–631.\\u2003Argued May 6, 2020—Decided July 6, 2020 In response to consumer complaints, Congress passed the Telephone Consumer Protection Act of 1991 (TCPA) to prohibit,inter alia, almost all robocalls to cell phones.\\n\\n47 U.\\xa0S.\\xa0C. §227(b)(1)(A)(iii).  In 2015, Congress amended the robocall restriction, carving out a new government-debt exception that allows robocalls made solely to collect a debt owed to or guaranteed by the United States.\\n\\n129Stat.\\n588.  The American Association of Political Consultants and three other organizations that participate in the political system filed a declaratory judgment action, claiming that §227(b)(1)(A)(iii) violated the\\n \\nFirst Amendment.  The District Court determined that the robocall restriction with the government-debt exception was content-based but that it survived strict scrutiny because of the Government’s compelling interest in collecting debt.  The Fourth Circuit vacated the judgment, agreeing that the robo- call restriction with the government-debt exception was a content-based speech restriction, but holding that the law could not withstand strict scrutiny.  The court invalidated the government-debt exception and applied traditional severability principles to sever it from the robocall restriction.'}"
            ]
          },
          "metadata": {},
          "execution_count": 15
        }
      ],
      "source": [
        "#get_case_details('https://supreme.justia.com/cases/federal/us/591/19-631/')"
      ]
    },
    {
      "cell_type": "code",
      "execution_count": null,
      "id": "bafcda88",
      "metadata": {
        "id": "bafcda88"
      },
      "outputs": [],
      "source": []
    }
  ],
  "metadata": {
    "kernelspec": {
      "display_name": "Python [conda env:mr-delta2] *",
      "language": "python",
      "name": "conda-env-mr-delta2-py"
    },
    "language_info": {
      "codemirror_mode": {
        "name": "ipython",
        "version": 3
      },
      "file_extension": ".py",
      "mimetype": "text/x-python",
      "name": "python",
      "nbconvert_exporter": "python",
      "pygments_lexer": "ipython3",
      "version": "3.9.13"
    },
    "colab": {
      "provenance": [],
      "include_colab_link": true
    }
  },
  "nbformat": 4,
  "nbformat_minor": 5
}
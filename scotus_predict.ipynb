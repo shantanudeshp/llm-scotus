{
 "cells": [
  {
   "cell_type": "code",
   "execution_count": null,
   "id": "d5c935d2",
   "metadata": {},
   "outputs": [],
   "source": [
    "# Use case_data to get case details, and call the openai llm models to predict outcome."
   ]
  },
  {
   "cell_type": "code",
   "execution_count": 1,
   "id": "287d784d",
   "metadata": {},
   "outputs": [],
   "source": [
    "%run case_data.ipynb"
   ]
  },
  {
   "cell_type": "code",
   "execution_count": 2,
   "id": "0ed7f8cc",
   "metadata": {
    "collapsed": true,
    "id": "BzT68eur5cWt"
   },
   "outputs": [
    {
     "name": "stdout",
     "output_type": "stream",
     "text": [
      "Requirement already satisfied: openai in /Users/nishant.deshpande/miniconda3/envs/mr-delta2/lib/python3.9/site-packages (0.27.8)\r\n",
      "Requirement already satisfied: tqdm in /Users/nishant.deshpande/miniconda3/envs/mr-delta2/lib/python3.9/site-packages (from openai) (4.64.0)\r\n",
      "Requirement already satisfied: requests>=2.20 in /Users/nishant.deshpande/miniconda3/envs/mr-delta2/lib/python3.9/site-packages (from openai) (2.28.1)\r\n",
      "Requirement already satisfied: aiohttp in /Users/nishant.deshpande/miniconda3/envs/mr-delta2/lib/python3.9/site-packages (from openai) (3.8.1)\r\n",
      "Requirement already satisfied: certifi>=2017.4.17 in /Users/nishant.deshpande/miniconda3/envs/mr-delta2/lib/python3.9/site-packages (from requests>=2.20->openai) (2022.9.24)\r\n",
      "Requirement already satisfied: urllib3<1.27,>=1.21.1 in /Users/nishant.deshpande/miniconda3/envs/mr-delta2/lib/python3.9/site-packages (from requests>=2.20->openai) (1.26.10)\r\n",
      "Requirement already satisfied: charset-normalizer<3,>=2 in /Users/nishant.deshpande/miniconda3/envs/mr-delta2/lib/python3.9/site-packages (from requests>=2.20->openai) (2.1.0)\r\n",
      "Requirement already satisfied: idna<4,>=2.5 in /Users/nishant.deshpande/miniconda3/envs/mr-delta2/lib/python3.9/site-packages (from requests>=2.20->openai) (3.3)\r\n",
      "Requirement already satisfied: attrs>=17.3.0 in /Users/nishant.deshpande/miniconda3/envs/mr-delta2/lib/python3.9/site-packages (from aiohttp->openai) (21.4.0)\r\n",
      "Requirement already satisfied: async-timeout<5.0,>=4.0.0a3 in /Users/nishant.deshpande/miniconda3/envs/mr-delta2/lib/python3.9/site-packages (from aiohttp->openai) (4.0.2)\r\n",
      "Requirement already satisfied: multidict<7.0,>=4.5 in /Users/nishant.deshpande/miniconda3/envs/mr-delta2/lib/python3.9/site-packages (from aiohttp->openai) (6.0.2)\r\n",
      "Requirement already satisfied: frozenlist>=1.1.1 in /Users/nishant.deshpande/miniconda3/envs/mr-delta2/lib/python3.9/site-packages (from aiohttp->openai) (1.3.0)\r\n",
      "Requirement already satisfied: yarl<2.0,>=1.0 in /Users/nishant.deshpande/miniconda3/envs/mr-delta2/lib/python3.9/site-packages (from aiohttp->openai) (1.7.2)\r\n",
      "Requirement already satisfied: aiosignal>=1.1.2 in /Users/nishant.deshpande/miniconda3/envs/mr-delta2/lib/python3.9/site-packages (from aiohttp->openai) (1.2.0)\r\n"
     ]
    }
   ],
   "source": [
    "!pip install openai"
   ]
  },
  {
   "cell_type": "code",
   "execution_count": 3,
   "id": "f202ea52",
   "metadata": {},
   "outputs": [],
   "source": [
    "import logging\n",
    "logging.basicConfig(level=logging.INFO)"
   ]
  },
  {
   "cell_type": "code",
   "execution_count": 4,
   "id": "d7f7d8e2",
   "metadata": {
    "id": "p62U2rRw5epC"
   },
   "outputs": [],
   "source": [
    "import os\n",
    "import requests\n",
    "import openai\n",
    "from bs4 import BeautifulSoup\n",
    "\n",
    "from getpass import getpass"
   ]
  },
  {
   "cell_type": "code",
   "execution_count": 5,
   "id": "0bed038a",
   "metadata": {
    "id": "SGYFSlJ95rrK"
   },
   "outputs": [
    {
     "name": "stdout",
     "output_type": "stream",
     "text": [
      "Enter the openai key········\n"
     ]
    }
   ],
   "source": [
    "openai_key = getpass('Enter the openai key')\n",
    "#openai_key = os.getenv(\"OPENAI_API_KEY\")"
   ]
  },
  {
   "cell_type": "code",
   "execution_count": 7,
   "id": "0c9e720e",
   "metadata": {
    "id": "ta0AQt3VvF4O"
   },
   "outputs": [],
   "source": [
    "openai.organization = \"org-YjWOHW4W2uUvobjJfFBOBkU8\"\n",
    "openai.api_key = openai_key \n",
    "#openai.Model.list()"
   ]
  },
  {
   "cell_type": "code",
   "execution_count": null,
   "id": "00998f08",
   "metadata": {},
   "outputs": [],
   "source": []
  },
  {
   "cell_type": "code",
   "execution_count": 8,
   "id": "2bd90037",
   "metadata": {
    "id": "dgin_8v0vjne"
   },
   "outputs": [],
   "source": [
    "instructions = '''The following is a brief outline of a case. Predict the verdict of the Supreme Court by responding with the name of the Contestant they would most likely side with.\n",
    "For example:\n",
    "If the contestants are Reagan v. Alabama, respond with either Reagan or Alabama.\n",
    "If the contestants are Lubkowitz v. Smith, respond with either Lubkowitz or Smith.\n",
    "If the contestants are Department of Defense v. Higgins, respond with either Department of Defense or Higgins.'''"
   ]
  },
  {
   "cell_type": "code",
   "execution_count": 9,
   "id": "c11a5e13",
   "metadata": {
    "id": "ge12a9S3vGYW"
   },
   "outputs": [
    {
     "name": "stdout",
     "output_type": "stream",
     "text": [
      "\n",
      "{instructions}\n",
      "\n",
      "Case: {case_name}\n",
      "\n",
      "Summary: {case_summary}\n",
      "\n",
      "Verdict:\n",
      "\n"
     ]
    }
   ],
   "source": [
    "template1 = \"\"\"\n",
    "{instructions}\n",
    "\n",
    "Case: {case_name}\n",
    "\n",
    "Summary: {case_summary}\n",
    "\n",
    "Verdict:\n",
    "\"\"\"\n",
    "\n",
    "print(template1)"
   ]
  },
  {
   "cell_type": "code",
   "execution_count": null,
   "id": "47a05a9a",
   "metadata": {},
   "outputs": [],
   "source": []
  },
  {
   "cell_type": "code",
   "execution_count": 10,
   "id": "8fd8d844",
   "metadata": {},
   "outputs": [],
   "source": [
    "def generate(prompt, engine=\"text-davinci-003\", max_tokens=100):\n",
    "    response = openai.Completion.create(\n",
    "        engine=engine,\n",
    "        prompt=prompt,\n",
    "        max_tokens=max_tokens\n",
    "    )\n",
    "    tokens_used = response.usage['total_tokens']\n",
    "    return response.choices[0].text.strip(), tokens_used"
   ]
  },
  {
   "cell_type": "code",
   "execution_count": 11,
   "id": "babac73c",
   "metadata": {
    "id": "PJ6XslApvPMM"
   },
   "outputs": [],
   "source": [
    "def get_verdict(url):\n",
    "    case_details = get_case_details(url)\n",
    "    # 1. Call the scrape_contestants and scrape_syllabus functions on each URL\n",
    "    case_name = case_details['contestants']\n",
    "    case_summary = case_details['syllabus']\n",
    "    #TODO: check both are not None\n",
    "\n",
    "    # 2. Put the outputs inside the template\n",
    "    prompt = template1.format(instructions=instructions, case_name=case_name, case_summary=case_summary)\n",
    "\n",
    "    # 3. Call the LLM API to predict the verdict for each\n",
    "    predicted_verdict, tokens_used = generate(prompt)\n",
    "\n",
    "    # 4. Store the verdict and tokens used for each URL\n",
    "    results = {\n",
    "        \"url\": url,\n",
    "        \"predicted_verdict\": predicted_verdict,\n",
    "        \"tokens_used\": tokens_used\n",
    "    }\n",
    "\n",
    "    # 5. Return the results\n",
    "    return results\n",
    "\n"
   ]
  },
  {
   "cell_type": "code",
   "execution_count": 12,
   "id": "0c40c841",
   "metadata": {},
   "outputs": [],
   "source": [
    "def get_verdicts(urls):\n",
    "    verdicts = [get_verdict(u) for u in urls]\n",
    "    return verdicts"
   ]
  },
  {
   "cell_type": "code",
   "execution_count": 13,
   "id": "13c76b32",
   "metadata": {},
   "outputs": [
    {
     "name": "stdout",
     "output_type": "stream",
     "text": [
      "URL: https://supreme.justia.com/cases/federal/us/597/21-954/, Predicted Verdict: Biden, Tokens used: 1463\n"
     ]
    }
   ],
   "source": [
    "# Example usage:\n",
    "urls = ['https://supreme.justia.com/cases/federal/us/597/21-954/']  # Add more URLs as needed\n",
    "verdicts = get_verdicts(urls)\n",
    "\n",
    "for verdict in verdicts:\n",
    "    print(f\"URL: {verdict['url']}, Predicted Verdict: {verdict['predicted_verdict']}, Tokens used: {verdict['tokens_used']}\")"
   ]
  },
  {
   "cell_type": "code",
   "execution_count": null,
   "id": "08ed78f9",
   "metadata": {},
   "outputs": [],
   "source": []
  }
 ],
 "metadata": {
  "kernelspec": {
   "display_name": "Python [conda env:mr-delta2] *",
   "language": "python",
   "name": "conda-env-mr-delta2-py"
  },
  "language_info": {
   "codemirror_mode": {
    "name": "ipython",
    "version": 3
   },
   "file_extension": ".py",
   "mimetype": "text/x-python",
   "name": "python",
   "nbconvert_exporter": "python",
   "pygments_lexer": "ipython3",
   "version": "3.9.13"
  }
 },
 "nbformat": 4,
 "nbformat_minor": 5
}
